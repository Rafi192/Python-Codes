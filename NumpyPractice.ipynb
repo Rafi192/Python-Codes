{
 "cells": [
  {
   "cell_type": "code",
   "execution_count": 1,
   "id": "7bdb6e55",
   "metadata": {},
   "outputs": [
    {
     "data": {
      "text/plain": [
       "'1.21.5'"
      ]
     },
     "execution_count": 1,
     "metadata": {},
     "output_type": "execute_result"
    }
   ],
   "source": [
    "import numpy as np\n",
    "np.__version__"
   ]
  },
  {
   "cell_type": "code",
   "execution_count": 5,
   "id": "5286a355",
   "metadata": {},
   "outputs": [
    {
     "data": {
      "text/plain": [
       "array([ 1.  ,  2.  , 45.  , 67.  ,  7.56])"
      ]
     },
     "execution_count": 5,
     "metadata": {},
     "output_type": "execute_result"
    }
   ],
   "source": [
    "np.array([1,2,45,67,7])\n",
    "\n",
    "np.array([1,2,45,67,7.56])"
   ]
  },
  {
   "cell_type": "code",
   "execution_count": 7,
   "id": "2b304c58",
   "metadata": {
    "scrolled": true
   },
   "outputs": [
    {
     "data": {
      "text/plain": [
       "array([ 1,  2, 45, 67,  7])"
      ]
     },
     "execution_count": 7,
     "metadata": {},
     "output_type": "execute_result"
    }
   ],
   "source": [
    "np.array([1,2,45,67,7.77],dtype='int32')"
   ]
  },
  {
   "cell_type": "code",
   "execution_count": 11,
   "id": "b98d8b38",
   "metadata": {},
   "outputs": [
    {
     "ename": "SyntaxError",
     "evalue": "invalid syntax (2631138052.py, line 1)",
     "output_type": "error",
     "traceback": [
      "\u001b[1;36m  File \u001b[1;32m\"C:\\Users\\IT\\AppData\\Local\\Temp\\ipykernel_8160\\2631138052.py\"\u001b[1;36m, line \u001b[1;32m1\u001b[0m\n\u001b[1;33m    np.array([input('please enter values:',lis[])],dtype='int32')\u001b[0m\n\u001b[1;37m                                               ^\u001b[0m\n\u001b[1;31mSyntaxError\u001b[0m\u001b[1;31m:\u001b[0m invalid syntax\n"
     ]
    }
   ],
   "source": [
    "np.array([input('please enter values:',lis[])],dtype='int32')"
   ]
  },
  {
   "cell_type": "code",
   "execution_count": 12,
   "id": "9405bcc2",
   "metadata": {},
   "outputs": [
    {
     "data": {
      "text/plain": [
       "array([0., 0., 0., 0., 0., 0., 0., 0., 0., 0.], dtype=float32)"
      ]
     },
     "execution_count": 12,
     "metadata": {},
     "output_type": "execute_result"
    }
   ],
   "source": [
    "np.zeros(10,dtype='float32')"
   ]
  },
  {
   "cell_type": "code",
   "execution_count": 13,
   "id": "5824338e",
   "metadata": {},
   "outputs": [
    {
     "data": {
      "text/plain": [
       "array([[1., 1., 1.],\n",
       "       [1., 1., 1.],\n",
       "       [1., 1., 1.]], dtype=float32)"
      ]
     },
     "execution_count": 13,
     "metadata": {},
     "output_type": "execute_result"
    }
   ],
   "source": [
    "np.ones((3,3),dtype='float32')"
   ]
  },
  {
   "cell_type": "code",
   "execution_count": 16,
   "id": "17ce6c5d",
   "metadata": {},
   "outputs": [
    {
     "data": {
      "text/plain": [
       "array([ 0.,  3.,  6.,  9., 12., 15., 18., 21., 24.])"
      ]
     },
     "execution_count": 16,
     "metadata": {},
     "output_type": "execute_result"
    }
   ],
   "source": [
    "np.arange(0,25,3,dtype='float')"
   ]
  },
  {
   "cell_type": "code",
   "execution_count": 22,
   "id": "cf31a6ab",
   "metadata": {},
   "outputs": [
    {
     "data": {
      "text/plain": [
       "array([ 0., 10.])"
      ]
     },
     "execution_count": 22,
     "metadata": {},
     "output_type": "execute_result"
    }
   ],
   "source": [
    "np.linspace(0,10,2)"
   ]
  },
  {
   "cell_type": "code",
   "execution_count": 23,
   "id": "88c163fc",
   "metadata": {},
   "outputs": [
    {
     "data": {
      "text/plain": [
       "array([[0.78863387, 0.10603927, 0.22768789, 0.82585628],\n",
       "       [0.61661986, 0.17988052, 0.77001368, 0.44530441],\n",
       "       [0.7627874 , 0.46866267, 0.34253086, 0.02580892],\n",
       "       [0.68960035, 0.50374876, 0.92345105, 0.05599126]])"
      ]
     },
     "execution_count": 23,
     "metadata": {},
     "output_type": "execute_result"
    }
   ],
   "source": [
    "np.random.random((4,4))"
   ]
  },
  {
   "cell_type": "code",
   "execution_count": 26,
   "id": "0168d582",
   "metadata": {},
   "outputs": [
    {
     "data": {
      "text/plain": [
       "array([[ 1.17809426, -0.37652412, -0.02766945],\n",
       "       [-0.65712016,  0.0631619 , -0.05327348],\n",
       "       [ 0.36511474, -0.82893119,  0.62422793]])"
      ]
     },
     "execution_count": 26,
     "metadata": {},
     "output_type": "execute_result"
    }
   ],
   "source": [
    "np.random.normal(0,1, (3,3))"
   ]
  },
  {
   "cell_type": "code",
   "execution_count": 27,
   "id": "7cbb9e8d",
   "metadata": {},
   "outputs": [
    {
     "data": {
      "text/plain": [
       "array([[5, 0, 8],\n",
       "       [1, 6, 0],\n",
       "       [8, 6, 7]])"
      ]
     },
     "execution_count": 27,
     "metadata": {},
     "output_type": "execute_result"
    }
   ],
   "source": [
    "np.random.randint(0,10, (3,3))"
   ]
  },
  {
   "cell_type": "code",
   "execution_count": 29,
   "id": "45e4295e",
   "metadata": {},
   "outputs": [
    {
     "data": {
      "text/plain": [
       "array([[1., 0., 0.],\n",
       "       [0., 1., 0.],\n",
       "       [0., 0., 1.]])"
      ]
     },
     "execution_count": 29,
     "metadata": {},
     "output_type": "execute_result"
    }
   ],
   "source": [
    "np.eye(3)"
   ]
  },
  {
   "cell_type": "code",
   "execution_count": 57,
   "id": "069a86b9",
   "metadata": {},
   "outputs": [
    {
     "name": "stdout",
     "output_type": "stream",
     "text": [
      "[6.23042070e-307 4.67296746e-307 1.69121096e-306 6.95208344e-310]\n"
     ]
    }
   ],
   "source": [
    "arr4=np.empty(4)\n",
    "print(arr4)"
   ]
  },
  {
   "cell_type": "code",
   "execution_count": 44,
   "id": "ff399870",
   "metadata": {},
   "outputs": [
    {
     "name": "stdout",
     "output_type": "stream",
     "text": [
      "[[ 3  6 11 14]\n",
      " [18  0 14  3]\n",
      " [12 10 11  4]\n",
      " [ 6  4 15  3]]\n"
     ]
    }
   ],
   "source": [
    "arr0=np.random.randint(20,size=(4,4))\n",
    "print(arr0)"
   ]
  },
  {
   "cell_type": "code",
   "execution_count": 45,
   "id": "c9bea4a1",
   "metadata": {},
   "outputs": [
    {
     "name": "stdout",
     "output_type": "stream",
     "text": [
      "[[12  4  8 14]\n",
      " [15  3 15 13]\n",
      " [16 17  5  9]\n",
      " [ 3  0  5  0]]\n"
     ]
    }
   ],
   "source": [
    "arr1=np.random.randint(0,20,(4,4),)\n",
    "print(arr1)"
   ]
  },
  {
   "cell_type": "code",
   "execution_count": 46,
   "id": "f5911584",
   "metadata": {},
   "outputs": [
    {
     "name": "stdout",
     "output_type": "stream",
     "text": [
      "[[[12 15  0  3  3]\n",
      "  [ 7  9 19 18  4]\n",
      "  [ 6 12  1  6  7]\n",
      "  [14 17  5 13  8]]\n",
      "\n",
      " [[ 9 19 16 19  5]\n",
      "  [15 15  0 18  3]\n",
      "  [17 19 19 19 14]\n",
      "  [ 7  0  1  9  0]]\n",
      "\n",
      " [[10  3 11 18  2]\n",
      "  [ 0  0  4  5  6]\n",
      "  [ 8 17 15  4  9]\n",
      "  [10  1  1  7  9]]]\n"
     ]
    }
   ],
   "source": [
    "#3d array means, how many row and colums array are there \n",
    "#in \n",
    "np.random.seed(0)\n",
    "arr2=np.random.randint(0,20,(3,4,5))\n",
    "print(arr2)"
   ]
  },
  {
   "cell_type": "code",
   "execution_count": 48,
   "id": "b3c159b9",
   "metadata": {},
   "outputs": [
    {
     "data": {
      "text/plain": [
       "(4, 4)"
      ]
     },
     "execution_count": 48,
     "metadata": {},
     "output_type": "execute_result"
    }
   ],
   "source": [
    "arr1.shape"
   ]
  },
  {
   "cell_type": "code",
   "execution_count": 49,
   "id": "4a11c1f6",
   "metadata": {},
   "outputs": [
    {
     "data": {
      "text/plain": [
       "2"
      ]
     },
     "execution_count": 49,
     "metadata": {},
     "output_type": "execute_result"
    }
   ],
   "source": [
    "arr1.ndim"
   ]
  },
  {
   "cell_type": "code",
   "execution_count": 50,
   "id": "64312bfd",
   "metadata": {},
   "outputs": [
    {
     "data": {
      "text/plain": [
       "60"
      ]
     },
     "execution_count": 50,
     "metadata": {},
     "output_type": "execute_result"
    }
   ],
   "source": [
    "arr2.size"
   ]
  },
  {
   "cell_type": "code",
   "execution_count": 51,
   "id": "778e8f4d",
   "metadata": {},
   "outputs": [
    {
     "data": {
      "text/plain": [
       "dtype('int32')"
      ]
     },
     "execution_count": 51,
     "metadata": {},
     "output_type": "execute_result"
    }
   ],
   "source": [
    "arr2.dtype"
   ]
  },
  {
   "cell_type": "code",
   "execution_count": 52,
   "id": "6ae71ce1",
   "metadata": {},
   "outputs": [
    {
     "data": {
      "text/plain": [
       "4"
      ]
     },
     "execution_count": 52,
     "metadata": {},
     "output_type": "execute_result"
    }
   ],
   "source": [
    "arr2.itemsize"
   ]
  },
  {
   "cell_type": "code",
   "execution_count": 53,
   "id": "29091fc2",
   "metadata": {},
   "outputs": [
    {
     "data": {
      "text/plain": [
       "240"
      ]
     },
     "execution_count": 53,
     "metadata": {},
     "output_type": "execute_result"
    }
   ],
   "source": [
    "arr2.nbytes"
   ]
  },
  {
   "cell_type": "code",
   "execution_count": 54,
   "id": "529b620a",
   "metadata": {},
   "outputs": [
    {
     "data": {
      "text/plain": [
       "array([[[12, 15,  0,  3,  3],\n",
       "        [ 7,  9, 19, 18,  4],\n",
       "        [ 6, 12,  1,  6,  7],\n",
       "        [14, 17,  5, 13,  8]],\n",
       "\n",
       "       [[ 9, 19, 16, 19,  5],\n",
       "        [15, 15,  0, 18,  3],\n",
       "        [17, 19, 19, 19, 14],\n",
       "        [ 7,  0,  1,  9,  0]],\n",
       "\n",
       "       [[10,  3, 11, 18,  2],\n",
       "        [ 0,  0,  4,  5,  6],\n",
       "        [ 8, 17, 15,  4,  9],\n",
       "        [10,  1,  1,  7,  9]]])"
      ]
     },
     "execution_count": 54,
     "metadata": {},
     "output_type": "execute_result"
    }
   ],
   "source": [
    "arr2"
   ]
  },
  {
   "cell_type": "code",
   "execution_count": 61,
   "id": "6a971a1e",
   "metadata": {},
   "outputs": [
    {
     "data": {
      "text/plain": [
       "array([[[ 7,  9, 19, 18,  4],\n",
       "        [ 6, 12,  1,  6,  7]],\n",
       "\n",
       "       [[15, 15,  0, 18,  3],\n",
       "        [17, 19, 19, 19, 14]],\n",
       "\n",
       "       [[ 0,  0,  4,  5,  6],\n",
       "        [ 8, 17, 15,  4,  9]]])"
      ]
     },
     "execution_count": 61,
     "metadata": {},
     "output_type": "execute_result"
    }
   ],
   "source": [
    "arr2[0:,[1,2]]"
   ]
  },
  {
   "cell_type": "code",
   "execution_count": 59,
   "id": "bb51078e",
   "metadata": {},
   "outputs": [
    {
     "data": {
      "text/plain": [
       "1.6912109553714024e-306"
      ]
     },
     "execution_count": 59,
     "metadata": {},
     "output_type": "execute_result"
    }
   ],
   "source": [
    "arr4[2]"
   ]
  },
  {
   "cell_type": "code",
   "execution_count": 62,
   "id": "95fc6177",
   "metadata": {},
   "outputs": [],
   "source": [
    "#values can be modified using the list\n",
    "arr2[0,0]=9"
   ]
  },
  {
   "cell_type": "code",
   "execution_count": 63,
   "id": "768467fc",
   "metadata": {},
   "outputs": [
    {
     "data": {
      "text/plain": [
       "array([6.23042070e-307, 1.69121096e-306])"
      ]
     },
     "execution_count": 63,
     "metadata": {},
     "output_type": "execute_result"
    }
   ],
   "source": [
    "arr4[::2]"
   ]
  },
  {
   "cell_type": "code",
   "execution_count": 64,
   "id": "9bc55d1f",
   "metadata": {},
   "outputs": [
    {
     "data": {
      "text/plain": [
       "array([[12,  4,  8, 14],\n",
       "       [16, 17,  5,  9]])"
      ]
     },
     "execution_count": 64,
     "metadata": {},
     "output_type": "execute_result"
    }
   ],
   "source": [
    "arr1[::2]"
   ]
  },
  {
   "cell_type": "code",
   "execution_count": 65,
   "id": "2e261b41",
   "metadata": {},
   "outputs": [
    {
     "data": {
      "text/plain": [
       "array([0, 1, 2, 3, 4, 5, 6, 7, 8, 9])"
      ]
     },
     "execution_count": 65,
     "metadata": {},
     "output_type": "execute_result"
    }
   ],
   "source": [
    "arr5=np.arange(10)\n",
    "arr5"
   ]
  },
  {
   "cell_type": "code",
   "execution_count": 66,
   "id": "c23a3e32",
   "metadata": {},
   "outputs": [
    {
     "data": {
      "text/plain": [
       "array([0, 2, 4, 6, 8])"
      ]
     },
     "execution_count": 66,
     "metadata": {},
     "output_type": "execute_result"
    }
   ],
   "source": [
    "arr5[::2]"
   ]
  },
  {
   "cell_type": "code",
   "execution_count": 67,
   "id": "e85052e3",
   "metadata": {},
   "outputs": [
    {
     "data": {
      "text/plain": [
       "array([9, 7, 5, 3, 1])"
      ]
     },
     "execution_count": 67,
     "metadata": {},
     "output_type": "execute_result"
    }
   ],
   "source": [
    "arr5[::-2]"
   ]
  },
  {
   "cell_type": "code",
   "execution_count": 69,
   "id": "a6b968ed",
   "metadata": {},
   "outputs": [
    {
     "data": {
      "text/plain": [
       "array([2, 3, 4])"
      ]
     },
     "execution_count": 69,
     "metadata": {},
     "output_type": "execute_result"
    }
   ],
   "source": [
    "arr5[2:-5]"
   ]
  },
  {
   "cell_type": "code",
   "execution_count": 71,
   "id": "97171538",
   "metadata": {},
   "outputs": [
    {
     "data": {
      "text/plain": [
       "array([5, 3, 1])"
      ]
     },
     "execution_count": 71,
     "metadata": {},
     "output_type": "execute_result"
    }
   ],
   "source": [
    "arr5[5::-2]"
   ]
  },
  {
   "cell_type": "code",
   "execution_count": null,
   "id": "9307a69b",
   "metadata": {},
   "outputs": [],
   "source": []
  }
 ],
 "metadata": {
  "kernelspec": {
   "display_name": "Python 3 (ipykernel)",
   "language": "python",
   "name": "python3"
  },
  "language_info": {
   "codemirror_mode": {
    "name": "ipython",
    "version": 3
   },
   "file_extension": ".py",
   "mimetype": "text/x-python",
   "name": "python",
   "nbconvert_exporter": "python",
   "pygments_lexer": "ipython3",
   "version": "3.9.13"
  }
 },
 "nbformat": 4,
 "nbformat_minor": 5
}
